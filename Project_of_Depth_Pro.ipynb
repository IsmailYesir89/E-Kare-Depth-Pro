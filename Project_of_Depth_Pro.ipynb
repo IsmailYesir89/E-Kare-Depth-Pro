{
  "cells": [
    {
      "cell_type": "code",
      "execution_count": null,
      "metadata": {
        "colab": {
          "base_uri": "https://localhost:8080/"
        },
        "id": "Mg1rZ5LU0jAT",
        "outputId": "b99d638a-e421-457c-8b06-192c0d64d712"
      },
      "outputs": [
        {
          "output_type": "stream",
          "name": "stdout",
          "text": [
            "Mounted at /content/drive\n",
            " 13415492_2024-11-25_11-09-07.txt   example.txt\t\t   IMG_9377-preview.txt\n",
            " 345_2021-11-17_15-26-26.txt\t    fineTuneApp.ipynb\t   IMG_9378-preview.txt\n",
            "'Adroid3(former).txt'\t\t    firstOpenAi.ipynb\t   IMG_9379-preview.HEIC.txt\n",
            "'Android1(new).txt'\t\t    frontcam.txt\t   iphone16.txt\n",
            "'Android2(former).txt'\t\t    IMG_0307.txt\t   ml-depth-pro-main\n",
            " Chatbot\t\t\t    IMG_0336.txt\t   Scaling_picture.ipynb\n",
            " checkpoints\t\t\t    IMG_0345.txt\t  'Screenshot 2025-01-09 at 6.05.56 PM.txt'\n",
            " coin.txt\t\t\t    IMG_0436.txt\t   Untitled\n",
            "'Copy of Welcome To Colab'\t    IMG_0445.txt\t   Untitled.ipynb\n",
            " example2.txt\t\t\t    IMG_0451.txt\t   wound1.txt\n",
            " example3.txt\t\t\t    IMG_0460.txt\t   wound2.txt\n",
            " example5.txt\t\t\t    IMG_9374-preview.txt\n",
            " example6.txt\t\t\t    IMG_9375-preview.txt\n"
          ]
        }
      ],
      "source": [
        "from google.colab import drive\n",
        "drive.mount('/content/drive')\n",
        "\n",
        "# Navigate to the folder where the 'ml-depth-pro-main' is located\n",
        "import os\n",
        "repo_path = '/content/drive/My Drive/Colab Notebooks/' #ml-depth-pro-main\n",
        "os.chdir(repo_path)\n",
        "\n",
        "# Check if you are in the right directory\n",
        "!ls\n"
      ]
    },
    {
      "cell_type": "code",
      "execution_count": null,
      "metadata": {
        "colab": {
          "base_uri": "https://localhost:8080/"
        },
        "collapsed": true,
        "id": "J8uvjpwe6bNf",
        "outputId": "be971d64-9b57-46ae-d2a7-be973f30c2cb"
      },
      "outputs": [
        {
          "output_type": "stream",
          "name": "stdout",
          "text": [
            "Requirement already satisfied: torch in /usr/local/lib/python3.11/dist-packages (2.5.1+cu124)\n",
            "Requirement already satisfied: torchvision in /usr/local/lib/python3.11/dist-packages (0.20.1+cu124)\n",
            "Requirement already satisfied: opencv-python in /usr/local/lib/python3.11/dist-packages (4.11.0.86)\n",
            "Requirement already satisfied: matplotlib in /usr/local/lib/python3.11/dist-packages (3.10.0)\n",
            "Requirement already satisfied: filelock in /usr/local/lib/python3.11/dist-packages (from torch) (3.17.0)\n",
            "Requirement already satisfied: typing-extensions>=4.8.0 in /usr/local/lib/python3.11/dist-packages (from torch) (4.12.2)\n",
            "Requirement already satisfied: networkx in /usr/local/lib/python3.11/dist-packages (from torch) (3.4.2)\n",
            "Requirement already satisfied: jinja2 in /usr/local/lib/python3.11/dist-packages (from torch) (3.1.5)\n",
            "Requirement already satisfied: fsspec in /usr/local/lib/python3.11/dist-packages (from torch) (2024.10.0)\n",
            "Collecting nvidia-cuda-nvrtc-cu12==12.4.127 (from torch)\n",
            "  Downloading nvidia_cuda_nvrtc_cu12-12.4.127-py3-none-manylinux2014_x86_64.whl.metadata (1.5 kB)\n",
            "Collecting nvidia-cuda-runtime-cu12==12.4.127 (from torch)\n",
            "  Downloading nvidia_cuda_runtime_cu12-12.4.127-py3-none-manylinux2014_x86_64.whl.metadata (1.5 kB)\n",
            "Collecting nvidia-cuda-cupti-cu12==12.4.127 (from torch)\n",
            "  Downloading nvidia_cuda_cupti_cu12-12.4.127-py3-none-manylinux2014_x86_64.whl.metadata (1.6 kB)\n",
            "Collecting nvidia-cudnn-cu12==9.1.0.70 (from torch)\n",
            "  Downloading nvidia_cudnn_cu12-9.1.0.70-py3-none-manylinux2014_x86_64.whl.metadata (1.6 kB)\n",
            "Collecting nvidia-cublas-cu12==12.4.5.8 (from torch)\n",
            "  Downloading nvidia_cublas_cu12-12.4.5.8-py3-none-manylinux2014_x86_64.whl.metadata (1.5 kB)\n",
            "Collecting nvidia-cufft-cu12==11.2.1.3 (from torch)\n",
            "  Downloading nvidia_cufft_cu12-11.2.1.3-py3-none-manylinux2014_x86_64.whl.metadata (1.5 kB)\n",
            "Collecting nvidia-curand-cu12==10.3.5.147 (from torch)\n",
            "  Downloading nvidia_curand_cu12-10.3.5.147-py3-none-manylinux2014_x86_64.whl.metadata (1.5 kB)\n",
            "Collecting nvidia-cusolver-cu12==11.6.1.9 (from torch)\n",
            "  Downloading nvidia_cusolver_cu12-11.6.1.9-py3-none-manylinux2014_x86_64.whl.metadata (1.6 kB)\n",
            "Collecting nvidia-cusparse-cu12==12.3.1.170 (from torch)\n",
            "  Downloading nvidia_cusparse_cu12-12.3.1.170-py3-none-manylinux2014_x86_64.whl.metadata (1.6 kB)\n",
            "Requirement already satisfied: nvidia-nccl-cu12==2.21.5 in /usr/local/lib/python3.11/dist-packages (from torch) (2.21.5)\n",
            "Requirement already satisfied: nvidia-nvtx-cu12==12.4.127 in /usr/local/lib/python3.11/dist-packages (from torch) (12.4.127)\n",
            "Collecting nvidia-nvjitlink-cu12==12.4.127 (from torch)\n",
            "  Downloading nvidia_nvjitlink_cu12-12.4.127-py3-none-manylinux2014_x86_64.whl.metadata (1.5 kB)\n",
            "Requirement already satisfied: triton==3.1.0 in /usr/local/lib/python3.11/dist-packages (from torch) (3.1.0)\n",
            "Requirement already satisfied: sympy==1.13.1 in /usr/local/lib/python3.11/dist-packages (from torch) (1.13.1)\n",
            "Requirement already satisfied: mpmath<1.4,>=1.1.0 in /usr/local/lib/python3.11/dist-packages (from sympy==1.13.1->torch) (1.3.0)\n",
            "Requirement already satisfied: numpy in /usr/local/lib/python3.11/dist-packages (from torchvision) (1.26.4)\n",
            "Requirement already satisfied: pillow!=8.3.*,>=5.3.0 in /usr/local/lib/python3.11/dist-packages (from torchvision) (11.1.0)\n",
            "Requirement already satisfied: contourpy>=1.0.1 in /usr/local/lib/python3.11/dist-packages (from matplotlib) (1.3.1)\n",
            "Requirement already satisfied: cycler>=0.10 in /usr/local/lib/python3.11/dist-packages (from matplotlib) (0.12.1)\n",
            "Requirement already satisfied: fonttools>=4.22.0 in /usr/local/lib/python3.11/dist-packages (from matplotlib) (4.56.0)\n",
            "Requirement already satisfied: kiwisolver>=1.3.1 in /usr/local/lib/python3.11/dist-packages (from matplotlib) (1.4.8)\n",
            "Requirement already satisfied: packaging>=20.0 in /usr/local/lib/python3.11/dist-packages (from matplotlib) (24.2)\n",
            "Requirement already satisfied: pyparsing>=2.3.1 in /usr/local/lib/python3.11/dist-packages (from matplotlib) (3.2.1)\n",
            "Requirement already satisfied: python-dateutil>=2.7 in /usr/local/lib/python3.11/dist-packages (from matplotlib) (2.8.2)\n",
            "Requirement already satisfied: six>=1.5 in /usr/local/lib/python3.11/dist-packages (from python-dateutil>=2.7->matplotlib) (1.17.0)\n",
            "Requirement already satisfied: MarkupSafe>=2.0 in /usr/local/lib/python3.11/dist-packages (from jinja2->torch) (3.0.2)\n",
            "Downloading nvidia_cublas_cu12-12.4.5.8-py3-none-manylinux2014_x86_64.whl (363.4 MB)\n",
            "\u001b[2K   \u001b[90m━━━━━━━━━━━━━━━━━━━━━━━━━━━━━━━━━━━━━━━━\u001b[0m \u001b[32m363.4/363.4 MB\u001b[0m \u001b[31m3.7 MB/s\u001b[0m eta \u001b[36m0:00:00\u001b[0m\n",
            "\u001b[?25hDownloading nvidia_cuda_cupti_cu12-12.4.127-py3-none-manylinux2014_x86_64.whl (13.8 MB)\n",
            "\u001b[2K   \u001b[90m━━━━━━━━━━━━━━━━━━━━━━━━━━━━━━━━━━━━━━━━\u001b[0m \u001b[32m13.8/13.8 MB\u001b[0m \u001b[31m38.6 MB/s\u001b[0m eta \u001b[36m0:00:00\u001b[0m\n",
            "\u001b[?25hDownloading nvidia_cuda_nvrtc_cu12-12.4.127-py3-none-manylinux2014_x86_64.whl (24.6 MB)\n",
            "\u001b[2K   \u001b[90m━━━━━━━━━━━━━━━━━━━━━━━━━━━━━━━━━━━━━━━━\u001b[0m \u001b[32m24.6/24.6 MB\u001b[0m \u001b[31m29.1 MB/s\u001b[0m eta \u001b[36m0:00:00\u001b[0m\n",
            "\u001b[?25hDownloading nvidia_cuda_runtime_cu12-12.4.127-py3-none-manylinux2014_x86_64.whl (883 kB)\n",
            "\u001b[2K   \u001b[90m━━━━━━━━━━━━━━━━━━━━━━━━━━━━━━━━━━━━━━━━\u001b[0m \u001b[32m883.7/883.7 kB\u001b[0m \u001b[31m43.7 MB/s\u001b[0m eta \u001b[36m0:00:00\u001b[0m\n",
            "\u001b[?25hDownloading nvidia_cudnn_cu12-9.1.0.70-py3-none-manylinux2014_x86_64.whl (664.8 MB)\n",
            "\u001b[2K   \u001b[90m━━━━━━━━━━━━━━━━━━━━━━━━━━━━━━━━━━━━━━━━\u001b[0m \u001b[32m664.8/664.8 MB\u001b[0m \u001b[31m3.0 MB/s\u001b[0m eta \u001b[36m0:00:00\u001b[0m\n",
            "\u001b[?25hDownloading nvidia_cufft_cu12-11.2.1.3-py3-none-manylinux2014_x86_64.whl (211.5 MB)\n",
            "\u001b[2K   \u001b[90m━━━━━━━━━━━━━━━━━━━━━━━━━━━━━━━━━━━━━━━━\u001b[0m \u001b[32m211.5/211.5 MB\u001b[0m \u001b[31m6.3 MB/s\u001b[0m eta \u001b[36m0:00:00\u001b[0m\n",
            "\u001b[?25hDownloading nvidia_curand_cu12-10.3.5.147-py3-none-manylinux2014_x86_64.whl (56.3 MB)\n",
            "\u001b[2K   \u001b[90m━━━━━━━━━━━━━━━━━━━━━━━━━━━━━━━━━━━━━━━━\u001b[0m \u001b[32m56.3/56.3 MB\u001b[0m \u001b[31m11.0 MB/s\u001b[0m eta \u001b[36m0:00:00\u001b[0m\n",
            "\u001b[?25hDownloading nvidia_cusolver_cu12-11.6.1.9-py3-none-manylinux2014_x86_64.whl (127.9 MB)\n",
            "\u001b[2K   \u001b[90m━━━━━━━━━━━━━━━━━━━━━━━━━━━━━━━━━━━━━━━━\u001b[0m \u001b[32m127.9/127.9 MB\u001b[0m \u001b[31m8.4 MB/s\u001b[0m eta \u001b[36m0:00:00\u001b[0m\n",
            "\u001b[?25hDownloading nvidia_cusparse_cu12-12.3.1.170-py3-none-manylinux2014_x86_64.whl (207.5 MB)\n",
            "\u001b[2K   \u001b[90m━━━━━━━━━━━━━━━━━━━━━━━━━━━━━━━━━━━━━━━━\u001b[0m \u001b[32m207.5/207.5 MB\u001b[0m \u001b[31m6.2 MB/s\u001b[0m eta \u001b[36m0:00:00\u001b[0m\n",
            "\u001b[?25hDownloading nvidia_nvjitlink_cu12-12.4.127-py3-none-manylinux2014_x86_64.whl (21.1 MB)\n",
            "\u001b[2K   \u001b[90m━━━━━━━━━━━━━━━━━━━━━━━━━━━━━━━━━━━━━━━━\u001b[0m \u001b[32m21.1/21.1 MB\u001b[0m \u001b[31m78.6 MB/s\u001b[0m eta \u001b[36m0:00:00\u001b[0m\n",
            "\u001b[?25hInstalling collected packages: nvidia-nvjitlink-cu12, nvidia-curand-cu12, nvidia-cufft-cu12, nvidia-cuda-runtime-cu12, nvidia-cuda-nvrtc-cu12, nvidia-cuda-cupti-cu12, nvidia-cublas-cu12, nvidia-cusparse-cu12, nvidia-cudnn-cu12, nvidia-cusolver-cu12\n",
            "  Attempting uninstall: nvidia-nvjitlink-cu12\n",
            "    Found existing installation: nvidia-nvjitlink-cu12 12.5.82\n",
            "    Uninstalling nvidia-nvjitlink-cu12-12.5.82:\n",
            "      Successfully uninstalled nvidia-nvjitlink-cu12-12.5.82\n",
            "  Attempting uninstall: nvidia-curand-cu12\n",
            "    Found existing installation: nvidia-curand-cu12 10.3.6.82\n",
            "    Uninstalling nvidia-curand-cu12-10.3.6.82:\n",
            "      Successfully uninstalled nvidia-curand-cu12-10.3.6.82\n",
            "  Attempting uninstall: nvidia-cufft-cu12\n",
            "    Found existing installation: nvidia-cufft-cu12 11.2.3.61\n",
            "    Uninstalling nvidia-cufft-cu12-11.2.3.61:\n",
            "      Successfully uninstalled nvidia-cufft-cu12-11.2.3.61\n",
            "  Attempting uninstall: nvidia-cuda-runtime-cu12\n",
            "    Found existing installation: nvidia-cuda-runtime-cu12 12.5.82\n",
            "    Uninstalling nvidia-cuda-runtime-cu12-12.5.82:\n",
            "      Successfully uninstalled nvidia-cuda-runtime-cu12-12.5.82\n",
            "  Attempting uninstall: nvidia-cuda-nvrtc-cu12\n",
            "    Found existing installation: nvidia-cuda-nvrtc-cu12 12.5.82\n",
            "    Uninstalling nvidia-cuda-nvrtc-cu12-12.5.82:\n",
            "      Successfully uninstalled nvidia-cuda-nvrtc-cu12-12.5.82\n",
            "  Attempting uninstall: nvidia-cuda-cupti-cu12\n",
            "    Found existing installation: nvidia-cuda-cupti-cu12 12.5.82\n",
            "    Uninstalling nvidia-cuda-cupti-cu12-12.5.82:\n",
            "      Successfully uninstalled nvidia-cuda-cupti-cu12-12.5.82\n",
            "  Attempting uninstall: nvidia-cublas-cu12\n",
            "    Found existing installation: nvidia-cublas-cu12 12.5.3.2\n",
            "    Uninstalling nvidia-cublas-cu12-12.5.3.2:\n",
            "      Successfully uninstalled nvidia-cublas-cu12-12.5.3.2\n",
            "  Attempting uninstall: nvidia-cusparse-cu12\n",
            "    Found existing installation: nvidia-cusparse-cu12 12.5.1.3\n",
            "    Uninstalling nvidia-cusparse-cu12-12.5.1.3:\n",
            "      Successfully uninstalled nvidia-cusparse-cu12-12.5.1.3\n",
            "  Attempting uninstall: nvidia-cudnn-cu12\n",
            "    Found existing installation: nvidia-cudnn-cu12 9.3.0.75\n",
            "    Uninstalling nvidia-cudnn-cu12-9.3.0.75:\n",
            "      Successfully uninstalled nvidia-cudnn-cu12-9.3.0.75\n",
            "  Attempting uninstall: nvidia-cusolver-cu12\n",
            "    Found existing installation: nvidia-cusolver-cu12 11.6.3.83\n",
            "    Uninstalling nvidia-cusolver-cu12-11.6.3.83:\n",
            "      Successfully uninstalled nvidia-cusolver-cu12-11.6.3.83\n",
            "Successfully installed nvidia-cublas-cu12-12.4.5.8 nvidia-cuda-cupti-cu12-12.4.127 nvidia-cuda-nvrtc-cu12-12.4.127 nvidia-cuda-runtime-cu12-12.4.127 nvidia-cudnn-cu12-9.1.0.70 nvidia-cufft-cu12-11.2.1.3 nvidia-curand-cu12-10.3.5.147 nvidia-cusolver-cu12-11.6.1.9 nvidia-cusparse-cu12-12.3.1.170 nvidia-nvjitlink-cu12-12.4.127\n",
            "Collecting pillow-heif\n",
            "  Downloading pillow_heif-0.21.0-cp311-cp311-manylinux_2_17_x86_64.manylinux2014_x86_64.whl.metadata (9.8 kB)\n",
            "Requirement already satisfied: pillow>=10.1.0 in /usr/local/lib/python3.11/dist-packages (from pillow-heif) (11.1.0)\n",
            "Downloading pillow_heif-0.21.0-cp311-cp311-manylinux_2_17_x86_64.manylinux2014_x86_64.whl (7.8 MB)\n",
            "\u001b[2K   \u001b[90m━━━━━━━━━━━━━━━━━━━━━━━━━━━━━━━━━━━━━━━━\u001b[0m \u001b[32m7.8/7.8 MB\u001b[0m \u001b[31m59.6 MB/s\u001b[0m eta \u001b[36m0:00:00\u001b[0m\n",
            "\u001b[?25hInstalling collected packages: pillow-heif\n",
            "Successfully installed pillow-heif-0.21.0\n"
          ]
        }
      ],
      "source": [
        "'''\n",
        "install requirements\n",
        "'''\n",
        "\n",
        "!pip install torch torchvision opencv-python matplotlib\n",
        "!pip install pillow-heif\n"
      ]
    },
    {
      "cell_type": "code",
      "execution_count": null,
      "metadata": {
        "id": "xRJoIYCx6bXR"
      },
      "outputs": [],
      "source": [
        "# Add the ml-depth-pro-main repo to the Python path\n",
        "import sys\n",
        "sys.path.append(os.path.join(repo_path, 'ml-depth-pro-main'))\n",
        "\n",
        "# Check if we can import any of the repo's modules (for example, 'depth')\n",
        "# Try importing some module from the repo\n",
        "\n",
        "\n",
        "from src import depth_pro\n",
        "from src.depth_pro import *\n",
        "from src.depth_pro.utils import *\n",
        "from src.depth_pro.eval.boundary_metrics import *\n",
        "\n",
        "\n",
        "\n"
      ]
    },
    {
      "cell_type": "code",
      "execution_count": null,
      "metadata": {
        "colab": {
          "base_uri": "https://localhost:8080/"
        },
        "id": "bPn2o9Sd6bZq",
        "outputId": "84f298bd-c58f-4c32-d1f6-9706d592a9fa"
      },
      "outputs": [
        {
          "output_type": "stream",
          "name": "stdout",
          "text": [
            "cli  depth_pro.py  eval  __init__.py  network  __pycache__  utils.py\n"
          ]
        }
      ],
      "source": [
        "# List files in the ml-depth-pro-main folder\n",
        "!ls /content/drive/My\\ Drive/Colab\\ Notebooks/ml-depth-pro-main/src/depth_pro\n",
        "\n"
      ]
    },
    {
      "cell_type": "code",
      "execution_count": null,
      "metadata": {
        "colab": {
          "base_uri": "https://localhost:8080/"
        },
        "collapsed": true,
        "id": "4dKuGwbj6brU",
        "outputId": "c4c09c90-5662-4876-a23e-61212918b749"
      },
      "outputs": [
        {
          "output_type": "stream",
          "name": "stdout",
          "text": [
            "--2025-02-20 17:31:04--  https://ml-site.cdn-apple.com/models/depth-pro/depth_pro.pt\n",
            "Resolving ml-site.cdn-apple.com (ml-site.cdn-apple.com)... 17.253.97.206, 17.253.97.204, 2620:149:a10:f000::1, ...\n",
            "Connecting to ml-site.cdn-apple.com (ml-site.cdn-apple.com)|17.253.97.206|:443... connected.\n",
            "HTTP request sent, awaiting response... 200 OK\n",
            "Length: 1904446787 (1.8G) [binary/octet-stream]\n",
            "Saving to: ‘checkpoints/depth_pro.pt.95’\n",
            "\n",
            "depth_pro.pt.95     100%[===================>]   1.77G  15.1MB/s    in 84s     \n",
            "\n",
            "2025-02-20 17:32:28 (21.7 MB/s) - ‘checkpoints/depth_pro.pt.95’ saved [1904446787/1904446787]\n",
            "\n"
          ]
        }
      ],
      "source": [
        "!source /content/drive/My\\ Drive/Colab\\ Notebooks/ml-depth-pro-main/get_pretrained_models.sh\n"
      ]
    },
    {
      "cell_type": "code",
      "execution_count": null,
      "metadata": {
        "colab": {
          "base_uri": "https://localhost:8080/"
        },
        "id": "ODgrwAx_Rz3b",
        "outputId": "9dee1a00-9a56-41ae-8e47-3deb62ab1422"
      },
      "outputs": [
        {
          "output_type": "stream",
          "name": "stderr",
          "text": [
            "/content/drive/My Drive/Colab Notebooks/ml-depth-pro-main/src/depth_pro/depth_pro.py:135: FutureWarning: You are using `torch.load` with `weights_only=False` (the current default value), which uses the default pickle module implicitly. It is possible to construct malicious pickle data which will execute arbitrary code during unpickling (See https://github.com/pytorch/pytorch/blob/main/SECURITY.md#untrusted-models for more details). In a future release, the default value for `weights_only` will be flipped to `True`. This limits the functions that could be executed during unpickling. Arbitrary objects will no longer be allowed to be loaded via this mode unless they are explicitly allowlisted by the user via `torch.serialization.add_safe_globals`. We recommend you start setting `weights_only=True` for any use case where you don't have full control of the loaded file. Please open an issue on GitHub for any issues related to this experimental feature.\n",
            "  state_dict = torch.load(config.checkpoint_uri, map_location=\"cpu\")\n"
          ]
        }
      ],
      "source": [
        "from PIL import Image\n",
        "import os\n",
        "import matplotlib.pyplot as plt\n",
        "import torch\n",
        "import cv2\n",
        "import numpy as np\n",
        "from google.colab.patches import cv2_imshow\n",
        "\n",
        "# from src import depth_pro\n",
        "from src.depth_pro.utils import load_rgb # added\n",
        "\n",
        "# Load model and preprocessing transform\n",
        "model, transform = depth_pro.create_model_and_transforms()\n",
        "model.eval()\n",
        "\n",
        "image_path = '/content/drive/My Drive/Colab Notebooks/ml-depth-pro-main/data/Android2(former).jpg'\n",
        "\n",
        "# Load and preprocess an image.\n",
        "image, _, f_px = load_rgb(image_path)\n"
      ]
    },
    {
      "cell_type": "code",
      "execution_count": null,
      "metadata": {
        "id": "A2cHqLe8o-nq"
      },
      "outputs": [],
      "source": [
        "image = transform(image)# transformed image"
      ]
    },
    {
      "cell_type": "code",
      "execution_count": null,
      "metadata": {
        "colab": {
          "base_uri": "https://localhost:8080/"
        },
        "id": "X1XI_9ujEJ4R",
        "outputId": "d01287e3-caee-4040-a9eb-c559adc61915"
      },
      "outputs": [
        {
          "output_type": "execute_result",
          "data": {
            "text/plain": [
              "{'ExifVersion': b'0220',\n",
              " 'ShutterSpeedValue': 0.008333333333333333,\n",
              " 'ApertureValue': 1.53,\n",
              " 'DateTimeOriginal': '2025:01:15 16:14:24',\n",
              " 'DateTimeDigitized': '2025:01:15 16:14:24',\n",
              " 'BrightnessValue': 2.96,\n",
              " 'ExposureBiasValue': 0.0,\n",
              " 'MaxApertureValue': 1.53,\n",
              " 'MeteringMode': 2,\n",
              " 'Flash': 0,\n",
              " 'FocalLength': 6.3,\n",
              " 'ColorSpace': 65535,\n",
              " 'ExifImageWidth': 4000,\n",
              " 'DigitalZoomRatio': 1.0,\n",
              " 'FocalLengthIn35mmFilm': 23,\n",
              " 'SceneCaptureType': 0,\n",
              " 'OffsetTime': '-05:00',\n",
              " 'OffsetTimeOriginal': '-05:00',\n",
              " 'SubsecTime': '798',\n",
              " 'SubsecTimeOriginal': '798',\n",
              " 'SubsecTimeDigitized': '798',\n",
              " 'ExifImageHeight': 3000,\n",
              " 'ExposureTime': 0.008333333333333333,\n",
              " 'FNumber': 1.7,\n",
              " 'ImageUniqueID': 'HK0XLQE00SM',\n",
              " 'ExposureProgram': 2,\n",
              " 'ISOSpeedRatings': 160,\n",
              " 'ExposureMode': 0,\n",
              " 'FlashPixVersion': b'0100',\n",
              " 'WhiteBalance': 0,\n",
              " 'ImageWidth': 4000,\n",
              " 'ImageLength': 3000,\n",
              " 'ResolutionUnit': 2,\n",
              " 'ExifIFD': 234,\n",
              " 'Make': 'samsung',\n",
              " 'Model': 'Galaxy S24 Ultra',\n",
              " 'Software': 'S928USQS4AXL2',\n",
              " 'Orientation': 1,\n",
              " 'DateTime': '2025:01:15 16:14:24',\n",
              " 'YCbCrPositioning': 1,\n",
              " 'XResolution': 72.0,\n",
              " 'YResolution': 72.0}"
            ]
          },
          "metadata": {},
          "execution_count": 8
        }
      ],
      "source": [
        "# ... your other code ...\n",
        "\n",
        "# Load the image using PIL\n",
        "img_pil = Image.open(image_path)\n",
        "\n",
        "# Now call extract_exif with the PIL Image object\n",
        "extract_exif(img_pil)"
      ]
    },
    {
      "cell_type": "code",
      "source": [
        "#f_px = fpx_from_f35(4000.0,3000.0,55)"
      ],
      "metadata": {
        "id": "HeTRI8S_wvpv"
      },
      "execution_count": null,
      "outputs": []
    },
    {
      "cell_type": "code",
      "execution_count": null,
      "metadata": {
        "id": "8jGP9fATsa4j"
      },
      "outputs": [],
      "source": [
        "# Run inference.\n",
        "prediction = model.infer(image, f_px=f_px)\n",
        "depth = prediction[\"depth\"]  # Depth in [m].\n",
        "focallength_px = prediction[\"focallength_px\"]  # Focal length in pixels."
      ]
    },
    {
      "cell_type": "code",
      "source": [
        "depth"
      ],
      "metadata": {
        "colab": {
          "base_uri": "https://localhost:8080/"
        },
        "id": "O6q_v1Ur5riR",
        "outputId": "e3ff0c68-f3ee-4f22-b0ac-e9cfb23d2e90"
      },
      "execution_count": null,
      "outputs": [
        {
          "output_type": "execute_result",
          "data": {
            "text/plain": [
              "tensor([[0.3022, 0.2991, 0.2844,  ..., 0.2697, 0.2884, 0.2924],\n",
              "        [0.2926, 0.2905, 0.2803,  ..., 0.2633, 0.2763, 0.2790],\n",
              "        [0.2759, 0.2754, 0.2727,  ..., 0.2519, 0.2558, 0.2566],\n",
              "        ...,\n",
              "        [0.2859, 0.2857, 0.2848,  ..., 0.2426, 0.2434, 0.2436],\n",
              "        [0.2917, 0.2911, 0.2881,  ..., 0.2465, 0.2507, 0.2516],\n",
              "        [0.2949, 0.2941, 0.2898,  ..., 0.2486, 0.2547, 0.2559]])"
            ]
          },
          "metadata": {},
          "execution_count": 11
        }
      ]
    },
    {
      "cell_type": "code",
      "execution_count": null,
      "metadata": {
        "id": "Q2be29D_zjtO"
      },
      "outputs": [],
      "source": [
        "import numpy as np\n",
        "\n",
        "threshold = depth.mean().item()   # Threshold to identify object regions\n",
        "object_mask = depth > threshold  # Binary mask where condition is True\n",
        "\n",
        "# Find pixel coordinates\n",
        "object_pixels = np.argwhere(object_mask)\n"
      ]
    },
    {
      "cell_type": "code",
      "execution_count": null,
      "metadata": {
        "id": "4G9eFgne4fs9"
      },
      "outputs": [],
      "source": [
        "from src.depth_pro.eval.boundary_metrics import *\n",
        "import numpy as np\n",
        "\n",
        "# Convert the depth tensor to a NumPy array\n",
        "depth_np = depth.cpu().numpy()  # Assuming depth is a PyTorch tensor\n",
        "horizontal_mask = nms_horizontal(depth_np, threshold)\n",
        "vertical_mask = nms_vertical(depth_np, threshold)\n",
        "final_mask = horizontal_mask & vertical_mask"
      ]
    },
    {
      "cell_type": "code",
      "execution_count": null,
      "metadata": {
        "colab": {
          "base_uri": "https://localhost:8080/"
        },
        "id": "ruRZMDzPIEo0",
        "outputId": "a4c7daaa-3395-4541-d322-6c06737e7418"
      },
      "outputs": [
        {
          "output_type": "execute_result",
          "data": {
            "text/plain": [
              "2657.9384402458895"
            ]
          },
          "metadata": {},
          "execution_count": 14
        }
      ],
      "source": [
        "focallength_px"
      ]
    },
    {
      "cell_type": "code",
      "execution_count": null,
      "metadata": {
        "colab": {
          "base_uri": "https://localhost:8080/"
        },
        "id": "pyYcSykM6u50",
        "outputId": "d3875a73-a47d-491e-e09c-54c887845940"
      },
      "outputs": [
        {
          "output_type": "execute_result",
          "data": {
            "text/plain": [
              "tensor([[1.0000, 0.9898, 0.9412,  ..., 0.8926, 0.9544, 0.9676],\n",
              "        [0.9683, 0.9613, 0.9275,  ..., 0.8713, 0.9143, 0.9233],\n",
              "        [0.9129, 0.9112, 0.9023,  ..., 0.8334, 0.8464, 0.8490],\n",
              "        ...,\n",
              "        [0.9460, 0.9454, 0.9423,  ..., 0.8027, 0.8056, 0.8061],\n",
              "        [0.9654, 0.9633, 0.9532,  ..., 0.8157, 0.8296, 0.8324],\n",
              "        [0.9758, 0.9730, 0.9590,  ..., 0.8226, 0.8427, 0.8468]])"
            ]
          },
          "metadata": {},
          "execution_count": 15
        }
      ],
      "source": [
        "# Normalizing to create a ratio matrix\n",
        "ratio_matrix = depth / depth.max()\n",
        "ratio_matrix"
      ]
    },
    {
      "cell_type": "code",
      "execution_count": null,
      "metadata": {
        "id": "Uf8my5Rksi1O"
      },
      "outputs": [],
      "source": [
        "inverse_depth = 1 / depth\n",
        "# Visualize inverse depth instead of depth, clipped to [0.1m;250m] range for better visualization.\n",
        "max_invdepth_vizu = min(inverse_depth.max(), 1 / 0.1)\n",
        "min_invdepth_vizu = max(1 / 250, inverse_depth.min())\n",
        "inverse_depth_normalized = (inverse_depth - min_invdepth_vizu) / (max_invdepth_vizu - min_invdepth_vizu)\n"
      ]
    },
    {
      "cell_type": "code",
      "execution_count": null,
      "metadata": {
        "colab": {
          "base_uri": "https://localhost:8080/",
          "height": 272
        },
        "id": "EVCCvb7j338b",
        "outputId": "4bdbb9cc-2f75-4b34-fd55-4b842c7fdd5c"
      },
      "outputs": [
        {
          "output_type": "stream",
          "name": "stderr",
          "text": [
            "WARNING:matplotlib.image:Clipping input data to the valid range for imshow with RGB data ([0..1] for floats or [0..255] for integers). Got range [-0.9529412..1.0].\n"
          ]
        },
        {
          "output_type": "display_data",
          "data": {
            "text/plain": [
              "<Figure size 640x480 with 2 Axes>"
            ],
            "image/png": "[encoded data removed]"
          },
          "metadata": {}
        }
      ],
      "source": [
        "fig, (ax_rgb, ax_disp) = plt.subplots(1, 2)\n",
        "# Convert the PyTorch tensor to a NumPy array and permute the dimensions\n",
        "image_np = image.cpu().numpy()  # Move to CPU if using CUDA\n",
        "image_np = np.transpose(image_np, (1, 2, 0))  # Change to (H, W, C)\n",
        "\n",
        "ax_rgb.imshow(image_np)\n",
        "ax_disp.imshow(inverse_depth_normalized, cmap=\"turbo\")\n",
        "fig.canvas.draw()\n",
        "fig.canvas.flush_events()\n",
        "plt.show(block=True)"
      ]
    },
    {
      "cell_type": "code",
      "execution_count": null,
      "metadata": {
        "id": "igPXdpW1l-uv"
      },
      "outputs": [],
      "source": [
        "saving_path = '/content/drive/My Drive/Colab Notebooks/Android2(former).txt'"
      ]
    },
    {
      "cell_type": "code",
      "execution_count": null,
      "metadata": {
        "id": "fIK4kpCNfpX2"
      },
      "outputs": [],
      "source": [
        "import numpy as np\n",
        "\n",
        "def depth_to_3d(depth_map: np.ndarray, focallength_px) -> np.ndarray:\n",
        "    \"\"\"\n",
        "    Convert a depth map to a 3D point cloud.\n",
        "\n",
        "    Args:\n",
        "    ----\n",
        "        depth_map (np.ndarray): 2D depth map.\n",
        "        focallength_px : Focal length in pixels.\n",
        "\n",
        "    Returns:\n",
        "    -------\n",
        "        np.ndarray: 3D points as (N, 3) array.\n",
        "    \"\"\"\n",
        "    # Convert the depth map to a NumPy array if it's a PyTorch tensor\n",
        "    if isinstance(depth_map, torch.Tensor):\n",
        "        depth_map = depth_map.cpu().numpy()\n",
        "\n",
        "    h, w = depth_map.shape\n",
        "    # Assuming fx and fy are equal to focallength_px\n",
        "    fx = focallength_px.item()  # Get the scalar value from the tensor\n",
        "    fy = focallength_px.item()  # Get the scalar value from the tensor\n",
        "    # Assuming principal point is at the center of the image\n",
        "    camera_intrinsics = {\n",
        "        \"cx\": w/2 ,\n",
        "        \"cy\": h/2\n",
        "    }\n",
        "    cx = camera_intrinsics[\"cx\"]\n",
        "    cy = camera_intrinsics[\"cy\"]\n",
        "    # Generate pixel grid\n",
        "    u, v = np.meshgrid(np.arange(w), np.arange(h))\n",
        "\n",
        "    # Convert depth map to 3D points\n",
        "    Z = depth_map\n",
        "    X = (u - cx) * Z / fx\n",
        "    Y = (v - cy) * Z / fy\n",
        "\n",
        "    # Combine into (N, 3) array\n",
        "    points = np.stack((X, Y, Z), axis=-1).reshape(-1, 3)\n",
        "    return points"
      ]
    },
    {
      "cell_type": "code",
      "execution_count": null,
      "metadata": {
        "collapsed": true,
        "id": "h2Ryh6chBU3E"
      },
      "outputs": [],
      "source": [
        "def save_points_to_txt(points: np.ndarray, file_path: str) -> None:\n",
        "    \"\"\"\n",
        "    Save 3D points to a text file.\n",
        "\n",
        "    Args:\n",
        "    ----\n",
        "        points (np.ndarray): 3D points as an (N, 3) array.\n",
        "        file_path (str): Path to save the text file.\n",
        "\n",
        "    Returns:\n",
        "    -------\n",
        "        None\n",
        "    \"\"\"\n",
        "    # Save the points with header \"x y z\" for clarity\n",
        "    np.savetxt(file_path, points, fmt=\"%.6f\", header=\"x y z\", comments=\"\")"
      ]
    },
    {
      "cell_type": "code",
      "source": [
        "points = depth_to_3d(depth, focallength_px)\n",
        "points"
      ],
      "metadata": {
        "colab": {
          "base_uri": "https://localhost:8080/"
        },
        "id": "xqZ51hT4hGnr",
        "outputId": "0914fb45-bede-4c38-d791-ca085f1b7713"
      },
      "execution_count": null,
      "outputs": [
        {
          "output_type": "execute_result",
          "data": {
            "text/plain": [
              "array([[-0.22740425, -0.17055319,  0.30221325],\n",
              "       [-0.22496806, -0.16881045,  0.29912519],\n",
              "       [-0.21381656, -0.16052294,  0.28444007],\n",
              "       ...,\n",
              "       [ 0.18678212,  0.1402035 ,  0.24860059],\n",
              "       [ 0.19144467,  0.14363141,  0.25467876],\n",
              "       [ 0.19247089,  0.1443291 ,  0.25591585]])"
            ]
          },
          "metadata": {},
          "execution_count": 25
        }
      ]
    },
    {
      "cell_type": "code",
      "execution_count": null,
      "metadata": {
        "id": "M7c1bQ2N4qYA"
      },
      "outputs": [],
      "source": [
        "save_points_to_txt(points,saving_path)"
      ]
    }
  ],
  "metadata": {
    "colab": {
      "provenance": [],
      "authorship_tag": "ABX9TyNKB2rKom6vWx+NJPi93z8H"
    },
    "kernelspec": {
      "display_name": "Python 3",
      "name": "python3"
    },
    "language_info": {
      "name": "python"
    }
  },
  "nbformat": 4,
  "nbformat_minor": 0
}